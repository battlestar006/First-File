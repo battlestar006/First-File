{
  "nbformat": 4,
  "nbformat_minor": 0,
  "metadata": {
    "colab": {
      "provenance": [],
      "authorship_tag": "ABX9TyMtVgyJhfj4TItCAbcEwwBa",
      "include_colab_link": true
    },
    "kernelspec": {
      "name": "python3",
      "display_name": "Python 3"
    },
    "language_info": {
      "name": "python"
    }
  },
  "cells": [
    {
      "cell_type": "markdown",
      "metadata": {
        "id": "view-in-github",
        "colab_type": "text"
      },
      "source": [
        "<a href=\"https://colab.research.google.com/github/battlestar006/First-File/blob/main/Libraries2.ipynb\" target=\"_parent\"><img src=\"https://colab.research.google.com/assets/colab-badge.svg\" alt=\"Open In Colab\"/></a>"
      ]
    },
    {
      "cell_type": "code",
      "execution_count": null,
      "metadata": {
        "colab": {
          "base_uri": "https://localhost:8080/"
        },
        "id": "3nnG5dqeY6--",
        "outputId": "1605541f-fc87-44db-92b7-5295a3ae518c"
      },
      "outputs": [
        {
          "output_type": "stream",
          "name": "stdout",
          "text": [
            "30\n",
            "200\n"
          ]
        }
      ],
      "source": [
        "class calculator:\n",
        "  def add(self, x,y):\n",
        "   return x+y\n",
        "  def mul(self, x,y):\n",
        "   return x*y\n",
        "obj = calculator()\n",
        "print(obj.add(10,20))\n",
        "print(obj.mul(10,20))"
      ]
    },
    {
      "cell_type": "code",
      "source": [
        "#create array to store value [90,67,36,22],[22,26,78,99]\n",
        "import numpy as np\n",
        "arr=np.array([[90,67,36,22],[22,26,78,99]])\n",
        "print(arr)\n",
        "print(\"type of array\",type(arr))\n",
        "print(\"no. of element\",arr.size)\n",
        "print(\"row and colume\",arr.shape)\n",
        "print(\"dimension of array\",arr.ndim)\n",
        "print( arr.dtype)\n"
      ],
      "metadata": {
        "colab": {
          "base_uri": "https://localhost:8080/"
        },
        "id": "YgvM4rY1vDrY",
        "outputId": "dcc7ea66-36f8-41f3-9fd1-0ba9b1770a70"
      },
      "execution_count": null,
      "outputs": [
        {
          "output_type": "stream",
          "name": "stdout",
          "text": [
            "[[[[90 67 36 22]\n",
            "   [22 26 78 99]]]]\n",
            "type of array <class 'numpy.ndarray'>\n",
            "no. of element 8\n",
            "row and colume (1, 1, 2, 4)\n",
            "dimension of array 4\n",
            "datatype int64\n"
          ]
        }
      ]
    },
    {
      "cell_type": "markdown",
      "source": [
        "arr1=np.array([10,20,30])\n",
        "print('sum',np.sum(arr1))\n",
        "print('max',np.max(arr1))\n",
        "print('min',np.min(arr1))\n",
        "print('mean',np.mean(arr1))\n",
        "print('median',np.median(arr1))\n",
        "print('std',np.std(arr1))"
      ],
      "metadata": {
        "id": "bovGk0I3v42G"
      }
    },
    {
      "cell_type": "code",
      "source": [
        "arr=np.arange(1,100)\n",
        "arr"
      ],
      "metadata": {
        "colab": {
          "base_uri": "https://localhost:8080/"
        },
        "id": "FwyXBl4_3qS8",
        "outputId": "0ca10211-ed4c-4f21-defb-5b41db15d6a1"
      },
      "execution_count": null,
      "outputs": [
        {
          "output_type": "execute_result",
          "data": {
            "text/plain": [
              "array([ 1,  2,  3,  4,  5,  6,  7,  8,  9, 10, 11, 12, 13, 14, 15, 16, 17,\n",
              "       18, 19, 20, 21, 22, 23, 24, 25, 26, 27, 28, 29, 30, 31, 32, 33, 34,\n",
              "       35, 36, 37, 38, 39, 40, 41, 42, 43, 44, 45, 46, 47, 48, 49, 50, 51,\n",
              "       52, 53, 54, 55, 56, 57, 58, 59, 60, 61, 62, 63, 64, 65, 66, 67, 68,\n",
              "       69, 70, 71, 72, 73, 74, 75, 76, 77, 78, 79, 80, 81, 82, 83, 84, 85,\n",
              "       86, 87, 88, 89, 90, 91, 92, 93, 94, 95, 96, 97, 98, 99])"
            ]
          },
          "metadata": {},
          "execution_count": 16
        }
      ]
    },
    {
      "cell_type": "code",
      "source": [
        "arr =np.arange(1,10)\n",
        "arr"
      ],
      "metadata": {
        "id": "77iQaSsk4cLq"
      },
      "execution_count": null,
      "outputs": []
    },
    {
      "cell_type": "markdown",
      "source": [
        "arr=np.arange(2,40,2)\n",
        "arr"
      ],
      "metadata": {
        "id": "HxkVQCA74l7p"
      }
    },
    {
      "cell_type": "code",
      "source": [
        "arr = np.arange(5,51,5)\n",
        "arr"
      ],
      "metadata": {
        "colab": {
          "base_uri": "https://localhost:8080/"
        },
        "id": "OQ5sVxN5474D",
        "outputId": "49e0a4d7-5db8-4605-942e-67b57e2cc8dc"
      },
      "execution_count": null,
      "outputs": [
        {
          "output_type": "execute_result",
          "data": {
            "text/plain": [
              "array([ 5, 10, 15, 20, 25, 30, 35, 40, 45, 50])"
            ]
          },
          "metadata": {},
          "execution_count": 23
        }
      ]
    },
    {
      "cell_type": "markdown",
      "source": [
        "arr = np.arange(5,51,5),np.arange(5,51,5)\n",
        "\n",
        "arr"
      ],
      "metadata": {
        "id": "i9ta18-Q6N-K"
      }
    },
    {
      "cell_type": "code",
      "source": [
        "arr = np.arange(1,10).reshape(3,3)\n",
        "arr"
      ],
      "metadata": {
        "colab": {
          "base_uri": "https://localhost:8080/"
        },
        "id": "jZwN8FOx7GhC",
        "outputId": "1ed7c42a-5e14-447c-9983-a72df5639bca"
      },
      "execution_count": null,
      "outputs": [
        {
          "output_type": "execute_result",
          "data": {
            "text/plain": [
              "array([[1, 2, 3],\n",
              "       [4, 5, 6],\n",
              "       [7, 8, 9]])"
            ]
          },
          "metadata": {},
          "execution_count": 25
        }
      ]
    },
    {
      "cell_type": "markdown",
      "source": [
        "arr = np.arange(1,15).reshape(7,2)\n",
        "arr"
      ],
      "metadata": {
        "id": "BKBnMy0q7Uiq"
      }
    },
    {
      "cell_type": "code",
      "source": [
        "arr=np.arange(2,21,2),np.arange(2,21,2)\n",
        "arr"
      ],
      "metadata": {
        "colab": {
          "base_uri": "https://localhost:8080/"
        },
        "id": "52VL4_Hf8KO8",
        "outputId": "f64f6995-2b19-4f9b-c913-837b8e5663b9"
      },
      "execution_count": null,
      "outputs": [
        {
          "output_type": "execute_result",
          "data": {
            "text/plain": [
              "(array([ 2,  4,  6,  8, 10, 12, 14, 16, 18, 20]),\n",
              " array([ 2,  4,  6,  8, 10, 12, 14, 16, 18, 20]))"
            ]
          },
          "metadata": {},
          "execution_count": 31
        }
      ]
    },
    {
      "cell_type": "code",
      "source": [
        "arr=np.arange(1,25).reshape(1,24)\n",
        "print(arr)\n",
        "ar=np.arange(1,25).reshape(2,12)\n",
        "print(ar)"
      ],
      "metadata": {
        "colab": {
          "base_uri": "https://localhost:8080/"
        },
        "id": "2DzF-1ngAOdG",
        "outputId": "baa7a07d-c06d-472a-d768-b8fb94da8892"
      },
      "execution_count": null,
      "outputs": [
        {
          "output_type": "stream",
          "name": "stdout",
          "text": [
            "[[ 1  2  3  4  5  6  7  8  9 10 11 12 13 14 15 16 17 18 19 20 21 22 23 24]]\n",
            "[[ 1  2  3  4  5  6  7  8  9 10 11 12]\n",
            " [13 14 15 16 17 18 19 20 21 22 23 24]]\n"
          ]
        }
      ]
    },
    {
      "cell_type": "code",
      "source": [
        "ar=np.arange(1,7).reshape(1,2,3)\n",
        "ar\n"
      ],
      "metadata": {
        "colab": {
          "base_uri": "https://localhost:8080/"
        },
        "id": "UZVSU8nV9v_1",
        "outputId": "90f9af72-0c3a-45d2-afb4-8fff3835329d"
      },
      "execution_count": null,
      "outputs": [
        {
          "output_type": "execute_result",
          "data": {
            "text/plain": [
              "array([[[1, 2, 3],\n",
              "        [4, 5, 6]]])"
            ]
          },
          "metadata": {},
          "execution_count": 46
        }
      ]
    },
    {
      "cell_type": "code",
      "source": [
        "arr=np.arange(1,13).reshape(3,2,2)\n",
        "arr"
      ],
      "metadata": {
        "colab": {
          "base_uri": "https://localhost:8080/"
        },
        "id": "beKDRzpN-AfU",
        "outputId": "c4f57ea1-b35c-4f50-ec4d-dc3f274f8f5d"
      },
      "execution_count": null,
      "outputs": [
        {
          "output_type": "execute_result",
          "data": {
            "text/plain": [
              "array([[[ 1,  2],\n",
              "        [ 3,  4]],\n",
              "\n",
              "       [[ 5,  6],\n",
              "        [ 7,  8]],\n",
              "\n",
              "       [[ 9, 10],\n",
              "        [11, 12]]])"
            ]
          },
          "metadata": {},
          "execution_count": 47
        }
      ]
    },
    {
      "cell_type": "markdown",
      "source": [
        "### **linspace**\n",
        "\n",
        "**it used to generated equal spaced between the given rnage by default is 50 value"
      ],
      "metadata": {
        "id": "w6O8NRsD9QJ3"
      }
    },
    {
      "cell_type": "code",
      "source": [
        "import numpy as np\n",
        "arr =np.linspace(1,100,20 ,retstep)\n",
        "arr\n"
      ],
      "metadata": {
        "id": "zpOtVp_S9mR3",
        "colab": {
          "base_uri": "https://localhost:8080/"
        },
        "outputId": "88af6c56-4d7c-4963-8e11-f01bf71a5346"
      },
      "execution_count": null,
      "outputs": [
        {
          "output_type": "execute_result",
          "data": {
            "text/plain": [
              "array([  1.        ,   6.21052632,  11.42105263,  16.63157895,\n",
              "        21.84210526,  27.05263158,  32.26315789,  37.47368421,\n",
              "        42.68421053,  47.89473684,  53.10526316,  58.31578947,\n",
              "        63.52631579,  68.73684211,  73.94736842,  79.15789474,\n",
              "        84.36842105,  89.57894737,  94.78947368, 100.        ])"
            ]
          },
          "metadata": {},
          "execution_count": 2
        }
      ]
    },
    {
      "cell_type": "markdown",
      "source": [
        "\n",
        "# Random function\n",
        "\n",
        "randn\n",
        "rand\n",
        "randint\n",
        "It is used to generate an array with random integers between given range"
      ],
      "metadata": {
        "id": "veiluNRaBfEu"
      }
    },
    {
      "cell_type": "code",
      "source": [
        "arr = np.random.randint(1,100)\n",
        "arr"
      ],
      "metadata": {
        "colab": {
          "base_uri": "https://localhost:8080/"
        },
        "id": "u5Wa89ZJByZV",
        "outputId": "479b8fe3-166a-4da7-f5af-9fdf834d8e33"
      },
      "execution_count": null,
      "outputs": [
        {
          "output_type": "execute_result",
          "data": {
            "text/plain": [
              "89"
            ]
          },
          "metadata": {},
          "execution_count": 3
        }
      ]
    },
    {
      "cell_type": "code",
      "source": [
        "arr = np.random.randint(1,100,10)\n",
        "arr"
      ],
      "metadata": {
        "colab": {
          "base_uri": "https://localhost:8080/"
        },
        "id": "MTiKuarKCD2a",
        "outputId": "5f8e5670-1e0f-4185-c8ac-3b65e83d4cae"
      },
      "execution_count": null,
      "outputs": [
        {
          "output_type": "execute_result",
          "data": {
            "text/plain": [
              "array([66, 86, 20,  7, 42, 18, 22,  3, 18, 78])"
            ]
          },
          "metadata": {},
          "execution_count": 4
        }
      ]
    },
    {
      "cell_type": "code",
      "source": [
        "arr= np.random.randn(100)\n",
        "arr"
      ],
      "metadata": {
        "colab": {
          "base_uri": "https://localhost:8080/"
        },
        "id": "tKjEjFZqDGC_",
        "outputId": "9700c076-e79c-46c3-efe0-830a73962baa"
      },
      "execution_count": null,
      "outputs": [
        {
          "output_type": "execute_result",
          "data": {
            "text/plain": [
              "array([-5.60370543e-01, -2.08988781e+00, -4.51488494e-01,  3.95262909e-01,\n",
              "        6.97444159e-01,  3.35041995e-01, -7.18838264e-02, -3.91608729e-01,\n",
              "       -1.47519621e+00,  3.35821778e-01,  7.99197790e-04, -4.09587189e-01,\n",
              "        1.81173435e-01, -1.78874208e-01, -4.93611917e-01,  1.32704620e+00,\n",
              "       -1.72654101e-01,  6.44485964e-01, -1.27315767e+00,  7.29694028e-01,\n",
              "       -2.77006149e-02,  4.00480721e-01,  7.74894957e-01,  1.00986809e+00,\n",
              "        4.67859338e-02, -1.19440851e+00,  1.96941103e-01, -1.21307055e+00,\n",
              "        1.10087012e+00, -1.08661357e+00,  1.16560519e+00, -2.03008989e+00,\n",
              "        3.07707193e-01, -8.56505154e-01,  1.13943565e+00,  1.23575499e+00,\n",
              "       -1.62347516e+00, -1.53318885e+00,  1.29359573e-01,  1.52547821e+00,\n",
              "        8.05661954e-01, -7.19401336e-01, -4.85118991e-01,  6.47214895e-01,\n",
              "        1.24623307e-01, -4.65951542e-01, -2.66107932e-01,  3.20238065e-01,\n",
              "       -1.27514933e+00,  2.79036794e+00, -3.13343068e-01, -1.84451261e+00,\n",
              "       -1.95631270e+00,  1.65157599e-01,  1.05400945e+00, -2.49055531e-01,\n",
              "       -7.90838792e-01, -1.00449641e+00,  8.14775923e-01,  1.01390634e+00,\n",
              "       -1.56253405e+00, -1.09290608e+00, -8.06868372e-01, -1.22915127e+00,\n",
              "        4.44297874e-01,  1.39972017e+00, -3.96720146e-01, -2.36863055e-01,\n",
              "       -2.98580257e-01, -6.77678538e-01, -1.14269610e+00,  1.27722211e+00,\n",
              "       -1.75941535e+00,  3.80564210e-01, -7.56004407e-01, -2.31942609e-01,\n",
              "       -7.30606103e-02,  4.81793419e-01, -1.07495413e+00,  1.76239547e-01,\n",
              "        8.65085167e-01,  2.27864245e-01,  6.53815603e-01, -1.25451937e+00,\n",
              "        2.49072943e-01,  3.76733697e-01, -2.23780430e+00,  6.99896936e-01,\n",
              "        1.29787437e+00,  1.64890938e+00,  1.15916542e+00, -4.64707516e-01,\n",
              "        8.77580161e-01, -1.52145971e+00,  7.41513316e-01,  1.07926655e+00,\n",
              "        7.60420096e-01,  2.02226206e-01, -5.35795544e-01, -5.80400590e-01])"
            ]
          },
          "metadata": {},
          "execution_count": 5
        }
      ]
    },
    {
      "cell_type": "code",
      "source": [
        "import numpy as np\n",
        "arr = np.random.rand(100,1000,20)\n",
        "arr"
      ],
      "metadata": {
        "colab": {
          "base_uri": "https://localhost:8080/"
        },
        "id": "cZrhkfE7EPRf",
        "outputId": "7861b563-4f94-431a-9faf-2bbc0bcea9cb"
      },
      "execution_count": null,
      "outputs": [
        {
          "output_type": "execute_result",
          "data": {
            "text/plain": [
              "array([[[0.68502909, 0.24482883, 0.82290214, ..., 0.429967  ,\n",
              "         0.15672723, 0.78032006],\n",
              "        [0.04845791, 0.69586353, 0.40662784, ..., 0.27342698,\n",
              "         0.15591983, 0.23238227],\n",
              "        [0.77201046, 0.4755119 , 0.46446287, ..., 0.15881409,\n",
              "         0.14024418, 0.63323425],\n",
              "        ...,\n",
              "        [0.83285031, 0.11272469, 0.32935461, ..., 0.14479309,\n",
              "         0.9596984 , 0.09978807],\n",
              "        [0.40229806, 0.71978803, 0.9742569 , ..., 0.42701883,\n",
              "         0.725353  , 0.76395429],\n",
              "        [0.57475014, 0.81442298, 0.03096519, ..., 0.03653944,\n",
              "         0.38864475, 0.90717406]],\n",
              "\n",
              "       [[0.83656791, 0.49315442, 0.45215949, ..., 0.02667277,\n",
              "         0.1609152 , 0.94518913],\n",
              "        [0.76565254, 0.30440895, 0.88568241, ..., 0.18035604,\n",
              "         0.13028298, 0.86062028],\n",
              "        [0.9579593 , 0.15799498, 0.28273515, ..., 0.7639207 ,\n",
              "         0.19767118, 0.85722098],\n",
              "        ...,\n",
              "        [0.33056923, 0.34821231, 0.20508557, ..., 0.9789331 ,\n",
              "         0.0705424 , 0.61892333],\n",
              "        [0.30373328, 0.24508934, 0.96433971, ..., 0.12464819,\n",
              "         0.59257085, 0.55483847],\n",
              "        [0.64326546, 0.37735991, 0.02134356, ..., 0.80588488,\n",
              "         0.91747807, 0.273007  ]],\n",
              "\n",
              "       [[0.54597064, 0.34326721, 0.49144947, ..., 0.38293272,\n",
              "         0.33058932, 0.31620291],\n",
              "        [0.9347539 , 0.50872103, 0.83009829, ..., 0.57732346,\n",
              "         0.92539644, 0.7647516 ],\n",
              "        [0.25198604, 0.37682377, 0.37782224, ..., 0.48769471,\n",
              "         0.11437137, 0.29844755],\n",
              "        ...,\n",
              "        [0.82557506, 0.64563545, 0.07592667, ..., 0.50638877,\n",
              "         0.31726487, 0.44120968],\n",
              "        [0.09155966, 0.42886348, 0.73865101, ..., 0.75927918,\n",
              "         0.67976005, 0.88336578],\n",
              "        [0.14631153, 0.94664408, 0.26153899, ..., 0.42689159,\n",
              "         0.06658906, 0.26754557]],\n",
              "\n",
              "       ...,\n",
              "\n",
              "       [[0.93005995, 0.64813156, 0.81474297, ..., 0.04551013,\n",
              "         0.83938269, 0.75347713],\n",
              "        [0.90603915, 0.73269871, 0.21909883, ..., 0.38579717,\n",
              "         0.87735524, 0.26082728],\n",
              "        [0.12973272, 0.98202663, 0.59511268, ..., 0.01557269,\n",
              "         0.03447656, 0.73626531],\n",
              "        ...,\n",
              "        [0.46148408, 0.4048668 , 0.59679986, ..., 0.2269008 ,\n",
              "         0.23221137, 0.06082887],\n",
              "        [0.66409678, 0.2220245 , 0.25927927, ..., 0.47921545,\n",
              "         0.47393627, 0.45012627],\n",
              "        [0.21502616, 0.44502363, 0.58594168, ..., 0.16653654,\n",
              "         0.13047477, 0.70112289]],\n",
              "\n",
              "       [[0.25396816, 0.61257664, 0.8030853 , ..., 0.12131049,\n",
              "         0.26130642, 0.41850785],\n",
              "        [0.40530162, 0.85233172, 0.74598258, ..., 0.46881899,\n",
              "         0.26255234, 0.17199014],\n",
              "        [0.85529087, 0.41521161, 0.67101318, ..., 0.25462537,\n",
              "         0.35297484, 0.67556443],\n",
              "        ...,\n",
              "        [0.35843682, 0.35540044, 0.51061026, ..., 0.71340268,\n",
              "         0.30171929, 0.10410072],\n",
              "        [0.52005137, 0.81525056, 0.42785811, ..., 0.36920504,\n",
              "         0.80228648, 0.01732197],\n",
              "        [0.57995388, 0.43856801, 0.9178033 , ..., 0.16780991,\n",
              "         0.04349589, 0.85071164]],\n",
              "\n",
              "       [[0.36613242, 0.32726962, 0.31947962, ..., 0.96545665,\n",
              "         0.20105958, 0.49323298],\n",
              "        [0.57514665, 0.14861536, 0.02416094, ..., 0.7819121 ,\n",
              "         0.54950154, 0.22261193],\n",
              "        [0.51204357, 0.47844437, 0.44894356, ..., 0.73527049,\n",
              "         0.38422877, 0.89655708],\n",
              "        ...,\n",
              "        [0.0845217 , 0.51093307, 0.79601492, ..., 0.18257218,\n",
              "         0.78510622, 0.97436412],\n",
              "        [0.04061107, 0.2831324 , 0.2896589 , ..., 0.24139069,\n",
              "         0.32295779, 0.08061658],\n",
              "        [0.36255774, 0.01711388, 0.09840686, ..., 0.41015615,\n",
              "         0.83444391, 0.77425161]]])"
            ]
          },
          "metadata": {},
          "execution_count": 8
        }
      ]
    },
    {
      "cell_type": "code",
      "source": [
        "import numpy as np\n",
        "arr = np.array([[1,2,3],[4,5,6],[7,8,9]])\n",
        "arr[0]# fetch 1 row\n",
        "arr[2]# fetch 3 row\n",
        "arr[0::2]# fetch 1 and 2 row\n",
        "arr[:,[2]]# fetch 1 and 3 row\n",
        "arr[:,[1,2]]# fetch 1 and 2 column"
      ],
      "metadata": {
        "colab": {
          "base_uri": "https://localhost:8080/"
        },
        "id": "aYPy-JhaJbQR",
        "outputId": "02b30151-905c-4c43-95b4-543de70633d7"
      },
      "execution_count": null,
      "outputs": [
        {
          "output_type": "execute_result",
          "data": {
            "text/plain": [
              "array([[2, 3],\n",
              "       [5, 6],\n",
              "       [8, 9]])"
            ]
          },
          "metadata": {},
          "execution_count": 14
        }
      ]
    },
    {
      "cell_type": "code",
      "source": [
        "'''\n",
        "[1,2]\n",
        "[4,5]\n",
        "'''\n",
        "arr[0:2,0:2]"
      ],
      "metadata": {
        "colab": {
          "base_uri": "https://localhost:8080/"
        },
        "id": "o7DFphZEOjBC",
        "outputId": "c01de23f-e076-4b0a-c55a-46ce84bc904c"
      },
      "execution_count": null,
      "outputs": [
        {
          "output_type": "execute_result",
          "data": {
            "text/plain": [
              "array([[1, 2],\n",
              "       [4, 5]])"
            ]
          },
          "metadata": {},
          "execution_count": 15
        }
      ]
    },
    {
      "cell_type": "code",
      "source": [
        "'''\n",
        "2,3\n",
        "'''\n",
        "arr[0:2,1:3]"
      ],
      "metadata": {
        "colab": {
          "base_uri": "https://localhost:8080/"
        },
        "id": "uIOKpFLrOlYQ",
        "outputId": "47190aff-c485-4be5-dffb-9e0450e5f556"
      },
      "execution_count": null,
      "outputs": [
        {
          "output_type": "execute_result",
          "data": {
            "text/plain": [
              "array([[2, 3],\n",
              "       [5, 6]])"
            ]
          },
          "metadata": {},
          "execution_count": 22
        }
      ]
    },
    {
      "cell_type": "code",
      "source": [],
      "metadata": {
        "id": "kZ45oBg8JKzc"
      },
      "execution_count": null,
      "outputs": []
    }
  ]
}