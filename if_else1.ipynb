{
  "nbformat": 4,
  "nbformat_minor": 0,
  "metadata": {
    "colab": {
      "provenance": [],
      "authorship_tag": "ABX9TyNyc1KGk+Clj7SGJh8IzJmN",
      "include_colab_link": true
    },
    "kernelspec": {
      "name": "python3",
      "display_name": "Python 3"
    },
    "language_info": {
      "name": "python"
    }
  },
  "cells": [
    {
      "cell_type": "markdown",
      "metadata": {
        "id": "view-in-github",
        "colab_type": "text"
      },
      "source": [
        "<a href=\"https://colab.research.google.com/github/battlestar006/First-File/blob/main/if_else1.ipynb\" target=\"_parent\"><img src=\"https://colab.research.google.com/assets/colab-badge.svg\" alt=\"Open In Colab\"/></a>"
      ]
    },
    {
      "cell_type": "code",
      "source": [
        "#verify the givn letter is oval or not\n",
        "\n",
        "\n",
        "oval=input(\"enter the letter\")\n",
        "if oval==\"a\" or oval==\"e\" or oval==\"i\" or oval==\"o\" or oval==\"u\":\n",
        "  print(\"vowel\")\n",
        "elif oval==\"A\" or oval==\"E\" or oval==\"I\" or oval==\"O\" or oval==\"U\":\n",
        "  print(\"Vowel\")\n",
        "else:\n",
        "  print(\"consonant\")"
      ],
      "metadata": {
        "id": "C6DxqWzR-MJz",
        "colab": {
          "base_uri": "https://localhost:8080/"
        },
        "outputId": "b87f803c-28f5-4357-b7a1-761957a410fa"
      },
      "execution_count": null,
      "outputs": [
        {
          "output_type": "stream",
          "name": "stdout",
          "text": [
            "enter the letterp\n",
            "consonant\n"
          ]
        }
      ]
    },
    {
      "cell_type": "code",
      "source": [
        "'''prime number till n '''\n",
        "\n",
        "n=int(input(\"enter the number \"))\n",
        "for i in range(1,n):\n",
        "  is_prime=True\n",
        "  for j in range(2,i):\n",
        "    if i%j==0:\n",
        "      is_prime=False\n",
        "      break\n",
        "  if is_prime:\n",
        "    print(i)\n"
      ],
      "metadata": {
        "colab": {
          "base_uri": "https://localhost:8080/"
        },
        "id": "FdKusXFz_PNo",
        "outputId": "45938648-f0a8-417e-8275-3e9eb022277b"
      },
      "execution_count": null,
      "outputs": [
        {
          "output_type": "stream",
          "name": "stdout",
          "text": [
            "enter the number 200\n",
            "1\n",
            "2\n",
            "3\n",
            "5\n",
            "7\n",
            "11\n",
            "13\n",
            "17\n",
            "19\n",
            "23\n",
            "29\n",
            "31\n",
            "37\n",
            "41\n",
            "43\n",
            "47\n",
            "53\n",
            "59\n",
            "61\n",
            "67\n",
            "71\n",
            "73\n",
            "79\n",
            "83\n",
            "89\n",
            "97\n",
            "101\n",
            "103\n",
            "107\n",
            "109\n",
            "113\n",
            "127\n",
            "131\n",
            "137\n",
            "139\n",
            "149\n",
            "151\n",
            "157\n",
            "163\n",
            "167\n",
            "173\n",
            "179\n",
            "181\n",
            "191\n",
            "193\n",
            "197\n",
            "199\n"
          ]
        }
      ]
    },
    {
      "cell_type": "code",
      "source": [
        "#check if you grade\n",
        "\n",
        "m=int(input(\"ente your mark\"))\n",
        "if m<60:\n",
        "  print(\"F\")\n",
        "elif m>=60 and m<69:\n",
        "  print(\"D\")\n",
        "elif m>=70 and m<79:\n",
        "  print(\"C\")\n",
        "elif m>=80 and m<89:\n",
        "  print(\"B\")\n",
        "elif m>=90 and m<100:\n",
        "    print(\"A\")\n",
        "else:\n",
        "      print(\"invalid\")"
      ],
      "metadata": {
        "colab": {
          "base_uri": "https://localhost:8080/"
        },
        "id": "mMFj4eMQk9tY",
        "outputId": "180b2e52-bc1c-4521-dc6c-087c1d9c59be"
      },
      "execution_count": null,
      "outputs": [
        {
          "output_type": "stream",
          "name": "stdout",
          "text": [
            "ente your mark9\n",
            "F\n"
          ]
        }
      ]
    },
    {
      "cell_type": "code",
      "source": [
        "#play rock,paper and scissor with me\n",
        "\n",
        "import random\n",
        "option=[\"rock\",\"paper\",\"scissor\"]\n",
        "computer=random.choice(option)\n",
        "player=input(\"enter your choise\").lower()\n",
        "print(computer)\n",
        "print(player)\n",
        "if computer==player:\n",
        "  print(\"tie\")\n",
        "elif computer==\"rock\" and player==\"scissor\" or computer==\"paper\" and player==\"rock\" :\n",
        " print(\"com win\")\n",
        "else:\n",
        " print( \"player win\")\n",
        "\n"
      ],
      "metadata": {
        "colab": {
          "base_uri": "https://localhost:8080/"
        },
        "id": "-YUycmYfwsyT",
        "outputId": "7e7d9142-3922-4b8f-9d3b-a4e3c316a4f7"
      },
      "execution_count": null,
      "outputs": [
        {
          "output_type": "stream",
          "name": "stdout",
          "text": [
            "enter your choiserock\n",
            "paper\n",
            "rock\n",
            "com win\n"
          ]
        }
      ]
    },
    {
      "cell_type": "code",
      "source": [
        "#check weather given string is palindrom or not\n",
        "\n",
        "char=input(\"enter string\")\n",
        "rev=char[::-1]\n",
        "if char==rev:\n",
        "  print(\"palindrome\")\n",
        "else:\n",
        "  print(\"not palindrome\")\n",
        "\n",
        "  '''\n",
        "  char=input(\"enter the string\")\n",
        "  rev=char[::-1]\n",
        "  if char==res:\n",
        "    print(\"p\")\n",
        "    else:\n",
        "      print(np\")\n",
        "      '''"
      ],
      "metadata": {
        "colab": {
          "base_uri": "https://localhost:8080/"
        },
        "id": "4PTFQG9nlAXv",
        "outputId": "9fc38f26-aae7-432b-8ec7-e336173d9c95"
      },
      "execution_count": null,
      "outputs": [
        {
          "output_type": "stream",
          "name": "stdout",
          "text": [
            "enter stringrer\n",
            "palindrome\n"
          ]
        }
      ]
    },
    {
      "cell_type": "code",
      "source": [
        "#check the given no is odd or even\n",
        "\n",
        "a=int(input(\"enter he number\"))\n",
        "if a % 2==0:\n",
        "  print(\"even\")\n",
        "else:\n",
        "  print(\"odd\")"
      ],
      "metadata": {
        "colab": {
          "base_uri": "https://localhost:8080/"
        },
        "id": "8QHi5nI9-L2k",
        "outputId": "293fc64f-6341-4bb1-bb49-199a71b1a953"
      },
      "execution_count": null,
      "outputs": [
        {
          "output_type": "stream",
          "name": "stdout",
          "text": [
            "enter he number6\n",
            "even\n"
          ]
        }
      ]
    },
    {
      "cell_type": "markdown",
      "source": [
        "\n",
        "\n",
        "> Add blockquote\n",
        "\n"
      ],
      "metadata": {
        "id": "-EJ8pKA8-rWZ"
      }
    },
    {
      "cell_type": "code",
      "source": [
        "#check if you are kid or adult\n",
        "\n",
        "age=int(input(\"enter your age =\"))\n",
        "if age<18 :\n",
        " print(\"you are kid\")\n",
        "elif age > 18:\n",
        " print(\"you are adult\")\n",
        "else:\n",
        "  print(\"invalid\")\n"
      ],
      "metadata": {
        "colab": {
          "base_uri": "https://localhost:8080/"
        },
        "id": "_RHBHgoMB47m",
        "outputId": "28471222-6b2e-4b8e-cd78-e246041db047"
      },
      "execution_count": null,
      "outputs": [
        {
          "output_type": "stream",
          "name": "stdout",
          "text": [
            "enter your age =56\n",
            "you are adult\n"
          ]
        }
      ]
    },
    {
      "cell_type": "code",
      "source": [
        "#find the largest no\n",
        "\n",
        "a=int(input(\"enter the number\"))\n",
        "b=int(input(\"enter the number\"))\n",
        "c=int(input(\"enter the number\"))\n",
        "if a>b & a>c:\n",
        "  print(\"a is greater\")\n",
        "elif b>a & b>c:\n",
        "  print(\"b is greater\")\n",
        "else:\n",
        "  print(\"c is greater\")\n",
        "\n",
        "  #a=22\n",
        "  #b=21\n",
        "  #c=6\n",
        "  #lrgest=min(a,b,c)\n",
        "  #print(largest)"
      ],
      "metadata": {
        "colab": {
          "base_uri": "https://localhost:8080/"
        },
        "id": "MT15FTx4Gjs2",
        "outputId": "69aacaa3-d29f-42b0-b785-860551d86e1d"
      },
      "execution_count": null,
      "outputs": [
        {
          "output_type": "stream",
          "name": "stdout",
          "text": [
            "enter the number22\n",
            "enter the number21\n",
            "enter the number6\n",
            "a is greater\n"
          ]
        }
      ]
    },
    {
      "cell_type": "code",
      "source": [
        "string=input(\"enter the string\")\n",
        "count=0\n",
        "for i in string:\n",
        "  if i in \"aeiouAEIOU\":\n",
        "    count=count+1\n",
        "    print(\"the number of vowels = \",count)\n",
        "\n",
        "\n",
        "'''word=input(\"enter the word\")\n",
        "oval= \"aeiouAEIOU\"\n",
        "for i in oval:\n",
        "  print(word.count(i))\n",
        "print(word.count(oval))\n",
        "'''\n",
        "\n"
      ],
      "metadata": {
        "colab": {
          "base_uri": "https://localhost:8080/",
          "height": 87
        },
        "id": "ZALXQLcRFOKw",
        "outputId": "09340d07-5122-4509-b2a8-0a526a67beb8"
      },
      "execution_count": null,
      "outputs": [
        {
          "output_type": "stream",
          "name": "stdout",
          "text": [
            "enter the stringpradnya\n",
            "the number of vowels =  1\n",
            "the number of vowels =  2\n"
          ]
        },
        {
          "output_type": "execute_result",
          "data": {
            "text/plain": [
              "'word=input(\"enter the word\")\\noval= \"aeiouAEIOU\"\\nfor i in oval:\\n  print(word.count(i))\\nprint(word.count(oval))\\n'"
            ],
            "application/vnd.google.colaboratory.intrinsic+json": {
              "type": "string"
            }
          },
          "metadata": {},
          "execution_count": 28
        }
      ]
    },
    {
      "cell_type": "code",
      "source": [
        "\n",
        "#not working\n",
        "lista=[[\"abc\",\"cbc\"],[\"bbb\",\"dfd\"]]\n",
        "team1=[]\n",
        "team2=[]\n",
        "for i in lista:\n",
        "  for j in i:\n",
        "   if lista[0] in ['a','b']:\n",
        "    team1.append(i)\n",
        "   elif lista[0] in ['c','d']:\n",
        "     team2.append(i)\n",
        "     print(\"team 1\",team1)\n",
        "     print(\"team 2\",team2)\n"
      ],
      "metadata": {
        "id": "9NE-a9nLMERb"
      },
      "execution_count": null,
      "outputs": []
    }
  ]
}